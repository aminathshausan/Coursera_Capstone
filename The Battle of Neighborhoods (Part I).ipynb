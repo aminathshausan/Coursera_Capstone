{
    "cells": [
        {
            "cell_type": "markdown",
            "metadata": {
                "collapsed": true
            },
            "source": "# The Battle of Neighborhoods (Part I)"
        },
        {
            "cell_type": "markdown",
            "metadata": {},
            "source": "#####  By: Aminath Shausan"
        },
        {
            "cell_type": "markdown",
            "metadata": {},
            "source": "### Background"
        },
        {
            "cell_type": "markdown",
            "metadata": {},
            "source": "### The Problem"
        },
        {
            "cell_type": "markdown",
            "metadata": {},
            "source": "### Description of Data and its Application"
        },
        {
            "cell_type": "markdown",
            "metadata": {},
            "source": "#### 1.  Data Collection and Preprocesing "
        },
        {
            "cell_type": "code",
            "execution_count": 6,
            "metadata": {},
            "outputs": [
                {
                    "name": "stdout",
                    "output_type": "stream",
                    "text": "Libraries imported.\n"
                }
            ],
            "source": "#import required libraries\nimport numpy as np # library to handle data in a vectorized manner\n\nimport pandas as pd # library for data analsysis\npd.set_option('display.max_columns', None)\npd.set_option('display.max_rows', None)\n\nprint('Libraries imported.')"
        },
        {
            "cell_type": "code",
            "execution_count": 7,
            "metadata": {},
            "outputs": [
                {
                    "name": "stdout",
                    "output_type": "stream",
                    "text": "192\n"
                }
            ],
            "source": "#create a list of  suburb names of Brisbane\ninner_sub = ['Bowen Hills',  'Brisbane', 'East Brisbane', 'Fortitude Valley', 'Herston', 'Highgate Hill', 'Kangaroo Point', 'Kelvin Grove', \n             'New Farm', 'Newstead', 'Paddington', 'Petrie Terrace', 'Red Hill', 'South Brisbane', 'Spring Hill', 'Teneriffe', 'West End', \n             'Woolloongabba']\n\nnorth_sub = ['Albion', 'Alderley', 'Ascot', 'Aspley', 'Bald Hills', 'Banyo', 'Boondall', 'Bracken Ridge', 'Bridgeman Downs', 'Brighton',\n             'Brisbane Airport', 'Carseldine', 'Chermside', 'Chermside West', 'Clayfield',  'Deagon', 'Eagle Farm', 'Everton Park', 'Ferny Grove',\n             'Fitzgibbon', 'Gaythorne', 'Geebung', 'Gordon Park', 'Grange', 'Hamilton', 'Hendra', 'Kalinga', 'Kedron', 'Keperra', 'Lutwyche', \n             'McDowall', 'Mitchelton', 'Myrtletown', 'Newmarket', 'Northgate', 'Nudgee', 'Nudgee Beach', 'Nundah', 'Pinkenba', 'Sandgate',\n             'Shorncliffe', 'Stafford', 'Stafford Heights', 'Taigum', 'Virginia', 'Wavell Heights', 'Wilston', 'Windsor', 'Wooloowin', 'Zillmere']\n\nsouth_sub = ['Acacia Ridge', 'Algester', 'Annerley', 'Archerfield', 'Burbank', 'Calamvale', 'Coopers Plains', 'Darra', 'Doolandella', \n             'Drewvale', 'Durack', 'Dutton Park', 'Eight Mile Plains', 'Ellen Grove', 'Fairfield', 'Forest Lake', 'Greenslopes', 'Heathwood', \n             'Holland Park', 'Holland Park West', 'Inala', 'Karawatha', 'Kuraby', 'Larapinta', 'MacGregor', 'Mackenzie', 'Mansfield', 'Moorooka', \n             'Mount Gravatt', 'Mount Gravatt East', 'Nathan', 'Pallara', 'Parkinson', 'Richlands', 'Robertson', 'Rochedale', 'Rocklea', \n             'Runcorn', 'Salisbury', 'Seventeen Mile Rocks',  'Sinnamon Park', 'Stones Corner', 'Stretton', 'Sumner', 'Sunnybank',\n             'Sunnybank Hills', 'Tarragindi',  'Tennyson', 'Upper Mount Gravatt', 'Wacol', 'Willawong',  'Wishart', 'Yeerongpilly', 'Yeronga']\n\neast_sub = ['Balmoral', 'Belmont', 'Bulimba', 'Camp Hill', 'Cannon Hill', 'Carina', 'Carina Heights', 'Carindale', 'Chandler', 'Coorparoo', \n            'Gumdale', 'Hawthorne', 'Hemmant', 'Lota', 'Lytton', 'Manly', 'Manly West', 'Moreton Island', 'Morningside', 'Murarrie', \n            'Norman Park', 'Port of Brisbane', 'Ransome', 'Seven Hills', 'Tingalpa', 'Wakerley', 'Wynnum', 'Wynnum West']\n\nwest_sub = ['Anstead', 'Ashgrove', 'Auchenflower', 'Bardon', 'Bellbowrie', 'Brookfield', 'Chapel Hill', 'Chelmer', 'Chuwar', 'Corinda', 'Enoggera', \n            'Enoggera Reservoir', 'Fig Tree Pocket', 'Graceville', 'Indooroopilly', 'Jamboree Heights' , 'Jindalee', 'Karana Downs', \n            'Kenmore', 'Kenmore Hills', 'Kholo', 'Lake Manchester', 'Middle Park', 'Milton', 'Moggill', 'Mount Coot-tha', 'Mount Crosby', \n            'Mount Ommaney', 'Oxley', 'Pinjarra Hills', 'Pullenvale', 'Riverhills', 'Seventeen Mile Rocks', 'Sherwood', 'Sinnamon Park', \n            'St Lucia', 'Taringa', 'The Gap', 'Toowong', 'Upper Brookfield', 'Upper Kedron', 'Westlake']\n\n#check length of the list \n#print(len(inner_sub), len(north_sub), len(south_sub), len(east_sub), len(west_sub))\n\n#join the list of suburbs into one list \nsub_list  = inner_sub + north_sub + south_sub + east_sub + west_sub\nprint(len(sub_list))"
        },
        {
            "cell_type": "code",
            "execution_count": 8,
            "metadata": {
                "scrolled": false
            },
            "outputs": [
                {
                    "data": {
                        "text/plain": "29"
                    },
                    "execution_count": 8,
                    "metadata": {},
                    "output_type": "execute_result"
                }
            ],
            "source": "#urls=['http://house.speakingsame.com/suburbtop.php?sta=qld&cat=HomePrice&name=0', \n#      'http://house.speakingsame.com/suburbtop.php?sta=qld&cat=HomePrice&name=&page=1']\n\nurls = {page_number:'http://house.speakingsame.com/suburbtop.php?sta=qld&cat=HomePrice&name=&page={}'.format(page_number) \n            for page_number in list(range(0, 29))}\n#table_dfs= [pd.read_html(url) for url in urls]\ndfnew = {}\ndfs ={}\nfor url in range(0,len(urls)):\n    dfs[url]= (pd.read_html(urls[url])[5]) \n    dfs[url].columns = ['Rank', 'Suburb', 'Value']\n    dfs[url].drop(dfs[url].index[0], inplace=True)\n    #dfnew[url] = dfs[url].loc[(dfs[url]['Suburb'].isin(sub_list))] \n    dfnew[url] = dfs[url].query('Suburb in @sub_list')\n    \n\n\n#df1 = (pd.read_html(urls[0])[5])\n#df1.columns = ['Rank', 'Suburb', 'Value']\n#df1.drop(df.index[0], inplace=True)\n\n#df2 = (pd.read_html(urls[1])[5])\n#df2.columns = ['Rank', 'Suburb', 'Value']\n#df2.drop(df.index[0], inplace=True)\n  \n#check size and 1st few rows\n#print(df.shape)\n#df.head()    \n#comb_df1 =  df1.loc[(df1['Suburb'].isin(inner_sub))|(df1['Suburb'].isin(north_sub))|(df1['Suburb'].isin(south_sub))\n #                 |(df1['Suburb'].isin(east_sub))|(df1['Suburb'].isin(west_sub))]\n\n#comb_df2 =  df2.loc[(df2['Suburb'].isin(inner_sub))|(df2['Suburb'].isin(north_sub))|(df2['Suburb'].isin(south_sub))\n#                  |(df2['Suburb'].isin(east_sub))|(df2['Suburb'].isin(west_sub))]\n\n#print(comb_df1.shape, comb_df2.shape)\n\n\n#comb_df2\n#df1 = pd.DataFrame(table_dfs[1])\n#df1\n#check size and 1st few rows\n#print(len(urls))\nlen(dfs)\n#print(df.shape)\n#urls[1]\n#df2.head()\n#type(dfs)\n"
        },
        {
            "cell_type": "code",
            "execution_count": 21,
            "metadata": {
                "scrolled": true
            },
            "outputs": [
                {
                    "name": "stdout",
                    "output_type": "stream",
                    "text": "dict_keys([0, 1, 2, 3, 4, 5, 6, 7, 8, 9, 10, 11, 12, 13, 14, 15, 16, 17, 18, 19, 20, 21, 22, 23, 24, 25, 26, 27, 28])\n29\n(8, 3)\n[0, 1, 2, 3, 4, 5, 6, 7, 8, 9, 10, 11, 12, 13, 14, 15, 16, 17, 18, 19, 20, 21, 22, 23, 24, 25, 26, 27, 28]\n"
                },
                {
                    "data": {
                        "text/html": "<div>\n<style scoped>\n    .dataframe tbody tr th:only-of-type {\n        vertical-align: middle;\n    }\n\n    .dataframe tbody tr th {\n        vertical-align: top;\n    }\n\n    .dataframe thead th {\n        text-align: right;\n    }\n</style>\n<table border=\"1\" class=\"dataframe\">\n  <thead>\n    <tr style=\"text-align: right;\">\n      <th></th>\n      <th>Rank</th>\n      <th>Suburb</th>\n      <th>Value</th>\n    </tr>\n  </thead>\n  <tbody>\n    <tr>\n      <th>1</th>\n      <td>1401</td>\n      <td>Hughenden</td>\n      <td>$83,600</td>\n    </tr>\n    <tr>\n      <th>2</th>\n      <td>1402</td>\n      <td>Bluff</td>\n      <td>$75,800</td>\n    </tr>\n    <tr>\n      <th>3</th>\n      <td>1403</td>\n      <td>Kogan</td>\n      <td>$75,000</td>\n    </tr>\n    <tr>\n      <th>4</th>\n      <td>1404</td>\n      <td>Greenvale</td>\n      <td>$74,300</td>\n    </tr>\n    <tr>\n      <th>5</th>\n      <td>1405</td>\n      <td>Middlemount</td>\n      <td>$72,300</td>\n    </tr>\n  </tbody>\n</table>\n</div>",
                        "text/plain": "   Rank       Suburb    Value\n1  1401    Hughenden  $83,600\n2  1402        Bluff  $75,800\n3  1403        Kogan  $75,000\n4  1404    Greenvale  $74,300\n5  1405  Middlemount  $72,300"
                    },
                    "execution_count": 21,
                    "metadata": {},
                    "output_type": "execute_result"
                }
            ],
            "source": "#urls = {page_number:'http://house.speakingsame.com/suburbtop.php?sta=qld&cat=HomePrice&name=&page={}'.format(page_number) for page_number in list(range(0,2))}\n\n#print(\"Get urls\")\n\n#for url in range(0,len(urls)):\n#    print(urls[url], end=', ')\n\nprint(dfs.keys())\nprint(len(dfs.keys()))\ndf_new = dfs[28]\nprint(df_new.shape)\n#len(urls)\nprint(list(range(0,len(urls))))\n\ndf_new.head()"
        },
        {
            "cell_type": "code",
            "execution_count": 200,
            "metadata": {},
            "outputs": [],
            "source": "#filter the rows corresponding to Brisbane suburbs\n\ndfnew = {}\nfor df in range(0,len(dfs.keys())):\n    dfnew[df] = dfs[df].loc[(dfs[df]['Suburb'].isin(sub_list))] \n   "
        },
        {
            "cell_type": "code",
            "execution_count": 6,
            "metadata": {},
            "outputs": [
                {
                    "name": "stdout",
                    "output_type": "stream",
                    "text": "(14, 3)\n"
                },
                {
                    "data": {
                        "text/html": "<div>\n<style scoped>\n    .dataframe tbody tr th:only-of-type {\n        vertical-align: middle;\n    }\n\n    .dataframe tbody tr th {\n        vertical-align: top;\n    }\n\n    .dataframe thead th {\n        text-align: right;\n    }\n</style>\n<table border=\"1\" class=\"dataframe\">\n  <thead>\n    <tr style=\"text-align: right;\">\n      <th></th>\n      <th>Rank</th>\n      <th>Suburb</th>\n      <th>Value</th>\n    </tr>\n  </thead>\n  <tbody>\n    <tr>\n      <th>10</th>\n      <td>10</td>\n      <td>Willawong</td>\n      <td>$1,552,100</td>\n    </tr>\n    <tr>\n      <th>11</th>\n      <td>11</td>\n      <td>New Farm</td>\n      <td>$1,443,500</td>\n    </tr>\n    <tr>\n      <th>15</th>\n      <td>15</td>\n      <td>Teneriffe</td>\n      <td>$1,401,200</td>\n    </tr>\n    <tr>\n      <th>16</th>\n      <td>16</td>\n      <td>Gumdale</td>\n      <td>$1,367,000</td>\n    </tr>\n    <tr>\n      <th>18</th>\n      <td>18</td>\n      <td>Hamilton</td>\n      <td>$1,357,700</td>\n    </tr>\n  </tbody>\n</table>\n</div>",
                        "text/plain": "   Rank     Suburb       Value\n10   10  Willawong  $1,552,100\n11   11   New Farm  $1,443,500\n15   15  Teneriffe  $1,401,200\n16   16    Gumdale  $1,367,000\n18   18   Hamilton  $1,357,700"
                    },
                    "execution_count": 6,
                    "metadata": {},
                    "output_type": "execute_result"
                }
            ],
            "source": "print(dfnew[5].shape)\ndfnew[0].head()"
        },
        {
            "cell_type": "code",
            "execution_count": 9,
            "metadata": {
                "scrolled": true
            },
            "outputs": [
                {
                    "name": "stdout",
                    "output_type": "stream",
                    "text": "(178, 3)\n"
                },
                {
                    "data": {
                        "text/html": "<div>\n<style scoped>\n    .dataframe tbody tr th:only-of-type {\n        vertical-align: middle;\n    }\n\n    .dataframe tbody tr th {\n        vertical-align: top;\n    }\n\n    .dataframe thead th {\n        text-align: right;\n    }\n</style>\n<table border=\"1\" class=\"dataframe\">\n  <thead>\n    <tr style=\"text-align: right;\">\n      <th></th>\n      <th>Rank</th>\n      <th>Suburb</th>\n      <th>Value</th>\n    </tr>\n  </thead>\n  <tbody>\n    <tr>\n      <th>0</th>\n      <td>10</td>\n      <td>Willawong</td>\n      <td>$1,552,100</td>\n    </tr>\n    <tr>\n      <th>1</th>\n      <td>11</td>\n      <td>New Farm</td>\n      <td>$1,443,500</td>\n    </tr>\n    <tr>\n      <th>2</th>\n      <td>15</td>\n      <td>Teneriffe</td>\n      <td>$1,401,200</td>\n    </tr>\n    <tr>\n      <th>3</th>\n      <td>16</td>\n      <td>Gumdale</td>\n      <td>$1,367,000</td>\n    </tr>\n    <tr>\n      <th>4</th>\n      <td>18</td>\n      <td>Hamilton</td>\n      <td>$1,357,700</td>\n    </tr>\n  </tbody>\n</table>\n</div>",
                        "text/plain": "  Rank     Suburb       Value\n0   10  Willawong  $1,552,100\n1   11   New Farm  $1,443,500\n2   15  Teneriffe  $1,401,200\n3   16    Gumdale  $1,367,000\n4   18   Hamilton  $1,357,700"
                    },
                    "execution_count": 9,
                    "metadata": {},
                    "output_type": "execute_result"
                }
            ],
            "source": "#merge the dataframes vertically \n#brisbane_df = pd.concat([dfnew[0], dfnew[1]], ignore_index=True)\nbrisbane_df = pd.concat(dfnew.values(), ignore_index=True)\nprint(brisbane_df.shape)\nbrisbane_df.head()"
        },
        {
            "cell_type": "markdown",
            "metadata": {},
            "source": "The combined df has 178 rows,  which does not match with the length of sub_list of 192. So we need to findout which suburbs are not in the brisbane_df and mannually add their values "
        },
        {
            "cell_type": "code",
            "execution_count": 10,
            "metadata": {},
            "outputs": [
                {
                    "name": "stdout",
                    "output_type": "stream",
                    "text": "(46, 3) 50\n"
                },
                {
                    "data": {
                        "text/plain": "['Kalinga', 'Brisbane Airport', 'Myrtletown', 'Eagle Farm']"
                    },
                    "execution_count": 10,
                    "metadata": {},
                    "output_type": "execute_result"
                }
            ],
            "source": "#check if all inner_sub are in the brisbane_df\n#select_values = [31, 22, 30, 25, 64]\n#df_inner = brisbane_df.query('Suburb in @inner_sub')\ndf_north = brisbane_df.query('Suburb in @north_sub')\n\n#print(df_inner.shape, len(inner_sub))\nprint(df_north.shape, len(north_sub))\n#df['one'].tolist()\n#df_inner_sub = df_inner['Suburb'].tolist()\ndf_north_sub = df_north['Suburb'].tolist()\n\n#list(set(inner_sub)-set(df_inner_sub))\nlist(set(north_sub)-set(df_north_sub))\n\n#all these give common elements in the two lists\n#set(df_inner_sub) & set(inner_sub)  \n#set(df_inner_sub).intersection(inner_sub)\n#bool(set(df_inner_sub).intersection(inner_sub))\n#df_inner_sub\n"
        },
        {
            "cell_type": "code",
            "execution_count": 11,
            "metadata": {},
            "outputs": [
                {
                    "name": "stdout",
                    "output_type": "stream",
                    "text": "(51, 3)\n"
                },
                {
                    "data": {
                        "text/html": "<div>\n<style scoped>\n    .dataframe tbody tr th:only-of-type {\n        vertical-align: middle;\n    }\n\n    .dataframe tbody tr th {\n        vertical-align: top;\n    }\n\n    .dataframe thead th {\n        text-align: right;\n    }\n</style>\n<table border=\"1\" class=\"dataframe\">\n  <thead>\n    <tr style=\"text-align: right;\">\n      <th></th>\n      <th>0</th>\n      <th>1</th>\n      <th>2</th>\n    </tr>\n  </thead>\n  <tbody>\n    <tr>\n      <th>0</th>\n      <td>Rank</td>\n      <td>Suburb</td>\n      <td>Value</td>\n    </tr>\n    <tr>\n      <th>1</th>\n      <td>1</td>\n      <td>Jollys Lookout</td>\n      <td>$2,999,900</td>\n    </tr>\n    <tr>\n      <th>2</th>\n      <td>2</td>\n      <td>Sovereign Islands</td>\n      <td>$2,619,400</td>\n    </tr>\n    <tr>\n      <th>3</th>\n      <td>3</td>\n      <td>Mermaid Beach</td>\n      <td>$2,200,100</td>\n    </tr>\n    <tr>\n      <th>4</th>\n      <td>4</td>\n      <td>Sunshine Beach</td>\n      <td>$1,975,100</td>\n    </tr>\n  </tbody>\n</table>\n</div>",
                        "text/plain": "      0                  1           2\n0  Rank             Suburb       Value\n1     1     Jollys Lookout  $2,999,900\n2     2  Sovereign Islands  $2,619,400\n3     3      Mermaid Beach  $2,200,100\n4     4     Sunshine Beach  $1,975,100"
                    },
                    "execution_count": 11,
                    "metadata": {},
                    "output_type": "execute_result"
                }
            ],
            "source": "#read the table in the html webpage: http://house.speakingsame.com/suburbtop.php?sta=qld&cat=HomePrice&name=\n#df1 = pd.read_html('http://house.speakingsame.com/suburbtop.php?sta=qld&cat=HomePrice&name=0')[5]\ndf = pd.read_html('http://house.speakingsame.com/suburbtop.php?sta=qld&cat=HomePrice&name=&page=0')[5]\n\n#check size and 1st few rows\nprint(df.shape)\ndf.head(5)"
        },
        {
            "cell_type": "code",
            "execution_count": 12,
            "metadata": {},
            "outputs": [
                {
                    "name": "stdout",
                    "output_type": "stream",
                    "text": "(50, 3)\n"
                },
                {
                    "data": {
                        "text/html": "<div>\n<style scoped>\n    .dataframe tbody tr th:only-of-type {\n        vertical-align: middle;\n    }\n\n    .dataframe tbody tr th {\n        vertical-align: top;\n    }\n\n    .dataframe thead th {\n        text-align: right;\n    }\n</style>\n<table border=\"1\" class=\"dataframe\">\n  <thead>\n    <tr style=\"text-align: right;\">\n      <th></th>\n      <th>Rank</th>\n      <th>Suburb</th>\n      <th>Value</th>\n    </tr>\n  </thead>\n  <tbody>\n    <tr>\n      <th>1</th>\n      <td>1</td>\n      <td>Jollys Lookout</td>\n      <td>$2,999,900</td>\n    </tr>\n    <tr>\n      <th>2</th>\n      <td>2</td>\n      <td>Sovereign Islands</td>\n      <td>$2,619,400</td>\n    </tr>\n    <tr>\n      <th>3</th>\n      <td>3</td>\n      <td>Mermaid Beach</td>\n      <td>$2,200,100</td>\n    </tr>\n    <tr>\n      <th>4</th>\n      <td>4</td>\n      <td>Sunshine Beach</td>\n      <td>$1,975,100</td>\n    </tr>\n    <tr>\n      <th>5</th>\n      <td>5</td>\n      <td>Cooroy Mountain</td>\n      <td>$1,946,600</td>\n    </tr>\n  </tbody>\n</table>\n</div>",
                        "text/plain": "  Rank             Suburb       Value\n1    1     Jollys Lookout  $2,999,900\n2    2  Sovereign Islands  $2,619,400\n3    3      Mermaid Beach  $2,200,100\n4    4     Sunshine Beach  $1,975,100\n5    5    Cooroy Mountain  $1,946,600"
                    },
                    "execution_count": 12,
                    "metadata": {},
                    "output_type": "execute_result"
                }
            ],
            "source": "#rename columns as 'Rank', 'Suburb', 'Value' and drop the first row\ndf.columns = ['Rank', 'Suburb', 'Value']\ndf.drop(df.index[0], inplace=True)\n  \n#check size and 1st few rows\nprint(df.shape)\ndf.head()    "
        },
        {
            "cell_type": "code",
            "execution_count": 52,
            "metadata": {},
            "outputs": [
                {
                    "name": "stdout",
                    "output_type": "stream",
                    "text": "18 50 54 28 42\n"
                }
            ],
            "source": "\n"
        },
        {
            "cell_type": "code",
            "execution_count": 13,
            "metadata": {},
            "outputs": [
                {
                    "name": "stdout",
                    "output_type": "stream",
                    "text": "(5, 3) (4, 3) (3, 3) (5, 3) (5, 3)\n"
                },
                {
                    "data": {
                        "text/html": "<div>\n<style scoped>\n    .dataframe tbody tr th:only-of-type {\n        vertical-align: middle;\n    }\n\n    .dataframe tbody tr th {\n        vertical-align: top;\n    }\n\n    .dataframe thead th {\n        text-align: right;\n    }\n</style>\n<table border=\"1\" class=\"dataframe\">\n  <thead>\n    <tr style=\"text-align: right;\">\n      <th></th>\n      <th>Rank</th>\n      <th>Suburb</th>\n      <th>Value</th>\n    </tr>\n  </thead>\n  <tbody>\n    <tr>\n      <th>19</th>\n      <td>19</td>\n      <td>Fig Tree Pocket</td>\n      <td>$1,337,700</td>\n    </tr>\n    <tr>\n      <th>21</th>\n      <td>21</td>\n      <td>Chelmer</td>\n      <td>$1,318,800</td>\n    </tr>\n    <tr>\n      <th>24</th>\n      <td>24</td>\n      <td>St Lucia</td>\n      <td>$1,289,300</td>\n    </tr>\n    <tr>\n      <th>35</th>\n      <td>35</td>\n      <td>Pullenvale</td>\n      <td>$1,216,500</td>\n    </tr>\n    <tr>\n      <th>50</th>\n      <td>50</td>\n      <td>Toowong</td>\n      <td>$1,112,500</td>\n    </tr>\n  </tbody>\n</table>\n</div>",
                        "text/plain": "   Rank           Suburb       Value\n19   19  Fig Tree Pocket  $1,337,700\n21   21          Chelmer  $1,318,800\n24   24         St Lucia  $1,289,300\n35   35       Pullenvale  $1,216,500\n50   50          Toowong  $1,112,500"
                    },
                    "execution_count": 13,
                    "metadata": {},
                    "output_type": "execute_result"
                }
            ],
            "source": "#from df1, extract only the specific suburbs \ninner_df =   df[df['Suburb'].isin(inner_sub)]\nnorth_df =   df[df['Suburb'].isin(north_sub)]\nsouth_df =   df[df['Suburb'].isin(south_sub)]\neast_df =   df[df['Suburb'].isin(east_sub)]\nwest_df =   df[df['Suburb'].isin(west_sub)]\n\n \nprint(inner_df.shape,north_df.shape, south_df.shape, east_df.shape, west_df.shape)\n#print(north_df.shape)\n#print(inner_df)\n#print(north_df)\nwest_df"
        },
        {
            "cell_type": "code",
            "execution_count": 19,
            "metadata": {},
            "outputs": [
                {
                    "name": "stdout",
                    "output_type": "stream",
                    "text": "(22, 3)\n"
                },
                {
                    "data": {
                        "text/html": "<div>\n<style scoped>\n    .dataframe tbody tr th:only-of-type {\n        vertical-align: middle;\n    }\n\n    .dataframe tbody tr th {\n        vertical-align: top;\n    }\n\n    .dataframe thead th {\n        text-align: right;\n    }\n</style>\n<table border=\"1\" class=\"dataframe\">\n  <thead>\n    <tr style=\"text-align: right;\">\n      <th></th>\n      <th>Rank</th>\n      <th>Suburb</th>\n      <th>Value</th>\n    </tr>\n  </thead>\n  <tbody>\n    <tr>\n      <th>10</th>\n      <td>10</td>\n      <td>Willawong</td>\n      <td>$1,552,100</td>\n    </tr>\n    <tr>\n      <th>11</th>\n      <td>11</td>\n      <td>New Farm</td>\n      <td>$1,443,500</td>\n    </tr>\n    <tr>\n      <th>15</th>\n      <td>15</td>\n      <td>Teneriffe</td>\n      <td>$1,401,200</td>\n    </tr>\n    <tr>\n      <th>16</th>\n      <td>16</td>\n      <td>Gumdale</td>\n      <td>$1,367,000</td>\n    </tr>\n    <tr>\n      <th>18</th>\n      <td>18</td>\n      <td>Hamilton</td>\n      <td>$1,357,700</td>\n    </tr>\n    <tr>\n      <th>19</th>\n      <td>19</td>\n      <td>Fig Tree Pocket</td>\n      <td>$1,337,700</td>\n    </tr>\n    <tr>\n      <th>20</th>\n      <td>20</td>\n      <td>Ransome</td>\n      <td>$1,329,000</td>\n    </tr>\n    <tr>\n      <th>21</th>\n      <td>21</td>\n      <td>Chelmer</td>\n      <td>$1,318,800</td>\n    </tr>\n    <tr>\n      <th>22</th>\n      <td>22</td>\n      <td>Chandler</td>\n      <td>$1,317,200</td>\n    </tr>\n    <tr>\n      <th>24</th>\n      <td>24</td>\n      <td>St Lucia</td>\n      <td>$1,289,300</td>\n    </tr>\n    <tr>\n      <th>26</th>\n      <td>26</td>\n      <td>Tennyson</td>\n      <td>$1,270,600</td>\n    </tr>\n    <tr>\n      <th>29</th>\n      <td>29</td>\n      <td>Ascot</td>\n      <td>$1,264,300</td>\n    </tr>\n    <tr>\n      <th>31</th>\n      <td>31</td>\n      <td>Burbank</td>\n      <td>$1,261,500</td>\n    </tr>\n    <tr>\n      <th>32</th>\n      <td>32</td>\n      <td>Hawthorne</td>\n      <td>$1,244,200</td>\n    </tr>\n    <tr>\n      <th>35</th>\n      <td>35</td>\n      <td>Pullenvale</td>\n      <td>$1,216,500</td>\n    </tr>\n    <tr>\n      <th>36</th>\n      <td>36</td>\n      <td>Bulimba</td>\n      <td>$1,207,400</td>\n    </tr>\n    <tr>\n      <th>38</th>\n      <td>38</td>\n      <td>Paddington</td>\n      <td>$1,202,500</td>\n    </tr>\n    <tr>\n      <th>40</th>\n      <td>40</td>\n      <td>South Brisbane</td>\n      <td>$1,175,600</td>\n    </tr>\n    <tr>\n      <th>43</th>\n      <td>43</td>\n      <td>Hendra</td>\n      <td>$1,158,300</td>\n    </tr>\n    <tr>\n      <th>45</th>\n      <td>45</td>\n      <td>Clayfield</td>\n      <td>$1,139,600</td>\n    </tr>\n    <tr>\n      <th>46</th>\n      <td>46</td>\n      <td>Highgate Hill</td>\n      <td>$1,138,800</td>\n    </tr>\n    <tr>\n      <th>50</th>\n      <td>50</td>\n      <td>Toowong</td>\n      <td>$1,112,500</td>\n    </tr>\n  </tbody>\n</table>\n</div>",
                        "text/plain": "   Rank           Suburb       Value\n10   10        Willawong  $1,552,100\n11   11         New Farm  $1,443,500\n15   15        Teneriffe  $1,401,200\n16   16          Gumdale  $1,367,000\n18   18         Hamilton  $1,357,700\n19   19  Fig Tree Pocket  $1,337,700\n20   20          Ransome  $1,329,000\n21   21          Chelmer  $1,318,800\n22   22         Chandler  $1,317,200\n24   24         St Lucia  $1,289,300\n26   26         Tennyson  $1,270,600\n29   29            Ascot  $1,264,300\n31   31          Burbank  $1,261,500\n32   32        Hawthorne  $1,244,200\n35   35       Pullenvale  $1,216,500\n36   36          Bulimba  $1,207,400\n38   38       Paddington  $1,202,500\n40   40   South Brisbane  $1,175,600\n43   43           Hendra  $1,158,300\n45   45        Clayfield  $1,139,600\n46   46    Highgate Hill  $1,138,800\n50   50          Toowong  $1,112,500"
                    },
                    "execution_count": 19,
                    "metadata": {},
                    "output_type": "execute_result"
                }
            ],
            "source": "#join_df =  df.loc[(df['Suburb'].isin(inner_sub))+(df['Suburb'].isin(north_sub))+(df['Suburb'].isin(south_sub))\n#                   +(df['Suburb'].isin(east_sub))+ (df['Suburb'].isin(west_sub))]\n#join_df = df[df['Suburb'].str.contains(sub_list, case=False)]\njoin_df = df.loc[(df['Suburb'].isin(sub_list))]\nprint(join_df.shape)\njoin_df\n"
        },
        {
            "cell_type": "code",
            "execution_count": null,
            "metadata": {},
            "outputs": [],
            "source": ""
        }
    ],
    "metadata": {
        "kernelspec": {
            "display_name": "Python 3.6",
            "language": "python",
            "name": "python3"
        },
        "language_info": {
            "codemirror_mode": {
                "name": "ipython",
                "version": 3
            },
            "file_extension": ".py",
            "mimetype": "text/x-python",
            "name": "python",
            "nbconvert_exporter": "python",
            "pygments_lexer": "ipython3",
            "version": "3.6.9"
        }
    },
    "nbformat": 4,
    "nbformat_minor": 1
}